{
 "cells": [
  {
   "cell_type": "code",
   "execution_count": 12,
   "metadata": {},
   "outputs": [
    {
     "name": "stdout",
     "output_type": "stream",
     "text": [
      "Populating the interactive namespace from numpy and matplotlib\n"
     ]
    }
   ],
   "source": [
    "from __future__ import division\n",
    "%pylab inline\n",
    "import pandas as pd\n",
    "import numpy as np\n",
    "import subprocess\n",
    "import os, sys, re\n",
    "from collections import defaultdict\n",
    "#import matplotlib\n",
    "#matplotlib.use('Agg')\n",
    "#%matplotlib nbagg\n",
    "#import matplotlib.pyplot as plt"
   ]
  },
  {
   "cell_type": "markdown",
   "metadata": {},
   "source": [
    "# Challenge\n",
    "\n",
    "Write a Python program (OSX or Linux preferred) that queries to the top 500 Alexa domains/sites:\n",
    "- http://www.alexa.com/topsites\n",
    "- https://www.dropbox.com/s/pqsimknj77ywqbn/top-1m.csv.tar.gz?dl=0\n",
    "\n",
    "### CDN analysis\n",
    "\n",
    "- Filter the domains served by a CDN (e.g., Akamai)\n",
    "- Rank CDN providers by number of sites\n",
    "- Calculate the average response time for the index page of each site (aka Time To First Byte) per CDN provider, and rank them by speed (separate DNS resolution, TCP connection, SSL negotiation and receive time ideally);\n",
    "\n",
    "### BGP analysis\n",
    "\n",
    "- Determine the ASN that each of the 500 sites maps to (based on hosting IP address)\n",
    "- Rank ASNs by number of sites"
   ]
  },
  {
   "cell_type": "code",
   "execution_count": 2,
   "metadata": {},
   "outputs": [],
   "source": [
    "def getCDF(data):\n",
    "    xdata = np.sort(data)\n",
    "    ydata = [i/len(xdata) for i in range(len(xdata))]\n",
    "    return xdata, ydata"
   ]
  },
  {
   "cell_type": "markdown",
   "metadata": {},
   "source": [
    "# CDN Analysis\n",
    "\n",
    "## Load Data\n",
    "load top 500 alexa websites from csv"
   ]
  },
  {
   "cell_type": "code",
   "execution_count": 139,
   "metadata": {},
   "outputs": [],
   "source": [
    "sites = pd.read_csv('top-1m.csv', nrows=500, header = None, names = ['rank', 'url'])"
   ]
  },
  {
   "cell_type": "markdown",
   "metadata": {},
   "source": [
    "## Get CDN for website\n",
    "- using whois on IP address (via nslookup for domain)\n",
    "- extract fields from DNS headers\n",
    "- checking IP from multiple server locations\n",
    "- downloading all objects on the website homepage"
   ]
  },
  {
   "cell_type": "code",
   "execution_count": 165,
   "metadata": {},
   "outputs": [
    {
     "data": {
      "text/plain": [
       "'yahoo.com'"
      ]
     },
     "execution_count": 165,
     "metadata": {},
     "output_type": "execute_result"
    }
   ],
   "source": [
    "site = sites['url'][4]\n",
    "site"
   ]
  },
  {
   "cell_type": "code",
   "execution_count": 166,
   "metadata": {},
   "outputs": [],
   "source": [
    "# use host command to get IP for site (domain url netloc)\n",
    "out = subprocess.getoutput('host '+site)\n",
    "\n",
    "# site IP is first IP address returned by host command - using split is more efficient than regex\n",
    "site_IP = out.split('\\n')[0].split(\" \")[-1]\n",
    "#site_IP = re.findall(r'\\\\b\\d{1,3}\\.\\d{1,3}\\.\\d{1,3}\\.\\d{1,3}',out)"
   ]
  },
  {
   "cell_type": "code",
   "execution_count": 167,
   "metadata": {},
   "outputs": [],
   "source": [
    "# use whois to find Organization and OrgName of site IP address\n",
    "# these correspond to CDN names if they are different from the website\n",
    "out2 = subprocess.getoutput('whois '+site_IP)\n",
    "#out2"
   ]
  },
  {
   "cell_type": "code",
   "execution_count": 168,
   "metadata": {},
   "outputs": [],
   "source": [
    "def findOrg(out2):\n",
    "    Org = []\n",
    "    OrgName = []\n",
    "    EmailServer = []\n",
    "    \n",
    "    exclude_orgs = ['AFRINIC','APNIC','ARIN','LACNIC','IANA']\n",
    "    \n",
    "    for line in out2.split('\\n'):\n",
    "        lower_line = line.lower()\n",
    "        \n",
    "        if 'organisation:' in lower_line or 'org:' in lower_line or 'organization:' in lower_line:\n",
    "            if not any([excl_org in line for excl_org in exclude_orgs]):\n",
    "                Org.append(line.split(':')[1].strip())\n",
    "                \n",
    "        if 'org-name:' in lower_line or 'orgname:' in lower_line:\n",
    "            OrgName.append(line.split(':')[1].strip())\n",
    "            \n",
    "        if 'email:' in lower_line or 'e-mail:' in lower_line:\n",
    "            EmailServer.append(line.split('@')[1].strip())\n",
    "            #print(line)\n",
    "    return list(set(Org)), list(set(OrgName)), list(set(EmailServer))"
   ]
  },
  {
   "cell_type": "code",
   "execution_count": 169,
   "metadata": {},
   "outputs": [
    {
     "data": {
      "text/plain": [
       "(['Yahoo! Inc. (YHOO)'],\n",
       " ['Yahoo! Inc.'],\n",
       " ['cc.yahoo-inc.com', 'yahoo-inc.com'])"
      ]
     },
     "execution_count": 169,
     "metadata": {},
     "output_type": "execute_result"
    }
   ],
   "source": [
    "findOrg(out2)"
   ]
  },
  {
   "cell_type": "code",
   "execution_count": null,
   "metadata": {},
   "outputs": [],
   "source": []
  },
  {
   "cell_type": "code",
   "execution_count": null,
   "metadata": {},
   "outputs": [],
   "source": []
  },
  {
   "cell_type": "code",
   "execution_count": null,
   "metadata": {},
   "outputs": [],
   "source": []
  },
  {
   "cell_type": "code",
   "execution_count": null,
   "metadata": {},
   "outputs": [],
   "source": []
  },
  {
   "cell_type": "code",
   "execution_count": null,
   "metadata": {},
   "outputs": [],
   "source": []
  },
  {
   "cell_type": "code",
   "execution_count": null,
   "metadata": {},
   "outputs": [],
   "source": []
  },
  {
   "cell_type": "markdown",
   "metadata": {},
   "source": [
    "## Rank number of websites per CDN\n",
    "- sort dataframe\n",
    "- bar chart\n",
    "\n",
    "## Request Index page\n",
    "- time to first byte\n",
    "- time to DNS resolution\n",
    "- time to TCP connection\n",
    "- time to SSL negotiation\n",
    "- receive time"
   ]
  },
  {
   "cell_type": "code",
   "execution_count": null,
   "metadata": {},
   "outputs": [],
   "source": []
  }
 ],
 "metadata": {
  "kernelspec": {
   "display_name": "Python 3",
   "language": "python",
   "name": "python3"
  },
  "language_info": {
   "codemirror_mode": {
    "name": "ipython",
    "version": 3
   },
   "file_extension": ".py",
   "mimetype": "text/x-python",
   "name": "python",
   "nbconvert_exporter": "python",
   "pygments_lexer": "ipython3",
   "version": "3.7.1"
  }
 },
 "nbformat": 4,
 "nbformat_minor": 2
}
