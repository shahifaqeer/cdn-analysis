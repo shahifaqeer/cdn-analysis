{
 "cells": [
  {
   "cell_type": "markdown",
   "metadata": {},
   "source": [
    "# Challenge\n",
    "\n",
    "Write a Python program (OSX or Linux preferred) that queries to the top 500 Alexa domains/sites:\n",
    "- http://www.alexa.com/topsites\n",
    "- https://www.dropbox.com/s/pqsimknj77ywqbn/top-1m.csv.tar.gz?dl=0\n",
    "\n",
    "### CDN analysis\n",
    "\n",
    "- Filter the domains served by a CDN (e.g., Akamai)\n",
    "- Rank CDN providers by number of sites\n",
    "- Calculate the average response time for the index page of each site (aka Time To First Byte) per CDN provider, and rank them by speed (separate DNS resolution, TCP connection, SSL negotiation and receive time ideally);\n",
    "\n",
    "### BGP analysis\n",
    "\n",
    "- Determine the ASN that each of the 500 sites maps to (based on hosting IP address)\n",
    "- Rank ASNs by number of sites"
   ]
  },
  {
   "cell_type": "code",
   "execution_count": 5,
   "metadata": {},
   "outputs": [],
   "source": [
    "from __future__ import division\n",
    "import numpy as np\n",
    "import os, sys\n",
    "import matplotlib\n",
    "#matplotlib.use('Agg')\n",
    "%matplotlib nbagg\n",
    "import matplotlib.pyplot as plt\n",
    "import pandas as pd\n",
    "from collections import defaultdict"
   ]
  },
  {
   "cell_type": "code",
   "execution_count": 6,
   "metadata": {},
   "outputs": [],
   "source": [
    "def getCDF(data):\n",
    "    xdata = np.sort(data)\n",
    "    ydata = [i/len(xdata) for i in range(len(xdata))]\n",
    "    return xdata, ydata"
   ]
  },
  {
   "cell_type": "markdown",
   "metadata": {},
   "source": [
    "# CDN Analysis\n",
    "\n",
    "## Load Data\n",
    "load top 500 alexa websites from csv"
   ]
  },
  {
   "cell_type": "code",
   "execution_count": 9,
   "metadata": {},
   "outputs": [],
   "source": [
    "sites = pd.read_csv('top-1m.csv', nrows=500, header = None, names = ['rank', 'url'])"
   ]
  },
  {
   "cell_type": "markdown",
   "metadata": {},
   "source": [
    "## Get CDN for website\n",
    "- using whois on IP address for domain\n",
    "- extracting field from DNS headers\n",
    "- checking IP from multiple server locations\n",
    "- downloading all objects on the website homepage"
   ]
  },
  {
   "cell_type": "code",
   "execution_count": null,
   "metadata": {},
   "outputs": [],
   "source": []
  },
  {
   "cell_type": "code",
   "execution_count": null,
   "metadata": {},
   "outputs": [],
   "source": []
  },
  {
   "cell_type": "code",
   "execution_count": null,
   "metadata": {},
   "outputs": [],
   "source": []
  },
  {
   "cell_type": "code",
   "execution_count": null,
   "metadata": {},
   "outputs": [],
   "source": []
  },
  {
   "cell_type": "code",
   "execution_count": null,
   "metadata": {},
   "outputs": [],
   "source": []
  },
  {
   "cell_type": "markdown",
   "metadata": {},
   "source": [
    "## Rank number of websites per CDN\n",
    "- sort dataframe\n",
    "- bar chart\n",
    "\n",
    "## Request Index page\n",
    "- time to first byte\n",
    "- time to DNS resolution\n",
    "- time to TCP connection\n",
    "- time to SSL negotiation\n",
    "- receive time"
   ]
  },
  {
   "cell_type": "code",
   "execution_count": null,
   "metadata": {},
   "outputs": [],
   "source": []
  }
 ],
 "metadata": {
  "kernelspec": {
   "display_name": "Python 3",
   "language": "python",
   "name": "python3"
  },
  "language_info": {
   "codemirror_mode": {
    "name": "ipython",
    "version": 3
   },
   "file_extension": ".py",
   "mimetype": "text/x-python",
   "name": "python",
   "nbconvert_exporter": "python",
   "pygments_lexer": "ipython3",
   "version": "3.7.1"
  }
 },
 "nbformat": 4,
 "nbformat_minor": 2
}
