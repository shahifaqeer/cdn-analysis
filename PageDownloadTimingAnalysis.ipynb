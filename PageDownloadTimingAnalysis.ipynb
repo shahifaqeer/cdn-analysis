{
 "cells": [
  {
   "cell_type": "markdown",
   "metadata": {},
   "source": [
    "## Request Index page for top 500 alexa websites\n",
    "- Analysis per CDN provider\n",
    "    - time to first byte\n",
    "    - time to DNS resolution\n",
    "    - time to TCP connection\n",
    "    - time to SSL negotiation\n",
    "    - receive time"
   ]
  },
  {
   "cell_type": "code",
   "execution_count": 5,
   "metadata": {},
   "outputs": [
    {
     "name": "stdout",
     "output_type": "stream",
     "text": [
      "Populating the interactive namespace from numpy and matplotlib\n"
     ]
    }
   ],
   "source": [
    "from __future__ import division\n",
    "%pylab inline\n",
    "import pandas as pd\n",
    "import numpy as np\n",
    "import subprocess\n",
    "import os, sys, re\n",
    "from collections import defaultdict"
   ]
  },
  {
   "cell_type": "code",
   "execution_count": 6,
   "metadata": {},
   "outputs": [],
   "source": [
    "site = 'wikipedia.org'"
   ]
  },
  {
   "cell_type": "markdown",
   "metadata": {},
   "source": [
    "### CURL Command Example with Output\n",
    "curl -v --trace-time -o /dev/null --connect-timeout 3.0 -w \"\\n\\nContentType: %{content_type}\\nResponseCode: %{response_code}\\nURLEffective: %{url_effective}\\n\\nSizeDownload: %{size_download};\\tSizeRquest: %{size_request}\\nSizeUpload: %{size_upload};\\tSizeHeader: %{size_header}\\n\\nTimeNameLookup: %{time_namelookup}\\nTimeConnect: %{time_connect}\\nTimeAppConnect: %{time_appconnect}\\nTimePreTransfer: %{time_pretransfer}\\nTimeRedirect: %{time_redirect}\\nTimeStartTransfer: %{time_starttransfer}\\nTimeTotal: %{time_total}\\n\" -s https://www.google.co.in\n",
    "\n",
    "\n",
    "12:24:41.186600 * Rebuilt URL to: https://www.google.co.in/  \n",
    "12:24:41.191017 *   Trying 172.217.167.3...  \n",
    "12:24:41.191061 * TCP_NODELAY set  \n",
    "12:24:41.218682 * Connected to www.google.co.in (172.217.167.3) port 443 (#0)  \n",
    "12:24:41.218794 * ALPN, offering h2  \n",
    "12:24:41.218825 * ALPN, offering http/1.1  \n",
    "12:24:41.218890 * Cipher selection: ALL:!EXPORT:!EXPORT40:!EXPORT56:!aNULL:!LOW:!RC4:@STRENGTH  \n",
    "12:24:41.224963 * successfully set certificate verify locations:  \n",
    "12:24:41.224997 *   CAfile: /etc/ssl/cert.pem  \n",
    "  CApath: none  \n",
    "12:24:41.225187 * TLSv1.2 (OUT), TLS handshake, Client hello (1):  \n",
    "12:24:41.225219 } [222 bytes data]  \n",
    "12:24:41.302091 * TLSv1.2 (IN), TLS handshake, Server hello (2):  \n",
    "12:24:41.302182 { [96 bytes data]  \n",
    "12:24:41.302706 * TLSv1.2 (IN), TLS handshake, Certificate (11):  \n",
    "12:24:41.302769 { [3128 bytes data]  \n",
    "12:24:41.309234 * TLSv1.2 (IN), TLS handshake, Server key exchange (12):  \n",
    "12:24:41.309275 { [116 bytes data]  \n",
    "12:24:41.312864 * TLSv1.2 (IN), TLS handshake, Server finished (14):  \n",
    "12:24:41.312896 { [4 bytes data]  \n",
    "12:24:41.313614 * TLSv1.2 (OUT), TLS handshake, Client key exchange (16):  \n",
    "12:24:41.313644 } [37 bytes data]  \n",
    "12:24:41.313695 * TLSv1.2 (OUT), TLS change cipher, Client hello (1):  \n",
    "12:24:41.313723 } [1 bytes data]  \n",
    "12:24:41.313895 * TLSv1.2 (OUT), TLS handshake, Finished (20):  \n",
    "12:24:41.313925 } [16 bytes data]  \n",
    "12:24:41.318727 * TLSv1.2 (IN), TLS change cipher, Client hello (1):  \n",
    "12:24:41.318799 { [1 bytes data]  \n",
    "12:24:41.319048 * TLSv1.2 (IN), TLS handshake, Finished (20):  \n",
    "12:24:41.319106 { [16 bytes data]  \n",
    "12:24:41.319209 * SSL connection using TLSv1.2 / ECDHE-ECDSA-CHACHA20-POLY1305  \n",
    "12:24:41.319265 * ALPN, server accepted to use h2  \n",
    "12:24:41.319324 * Server certificate:  \n",
    "12:24:41.319405 *  subject: C=US; ST=California; L=Mountain View; O=Google LLC; CN=*.google.com  \n",
    "12:24:41.319470 *  start date: Nov  7 08:59:00 2018 GMT  \n",
    "12:24:41.319525 *  expire date: Jan 30 08:59:00 2019 GMT  \n",
    "12:24:41.319705 *  subjectAltName: host \"www.google.co.in\" matched cert's \"*.google.co.in\"  \n",
    "12:24:41.319858 *  issuer: C=US; O=Google Trust Services; CN=Google Internet Authority G3  \n",
    "12:24:41.319915 *  SSL certificate verify ok.  \n",
    "12:24:41.319996 * Using HTTP2, server supports multi-use  \n",
    "12:24:41.320050 * Connection state changed (HTTP/2 confirmed)  \n",
    "12:24:41.320106 * Copying HTTP/2 data in stream buffer to connection buffer after upgrade: len=0  \n",
    "12:24:41.320264 * Using Stream ID: 1 (easy handle 0x7fb146006600)  \n",
    "12:24:41.320351 > GET / HTTP/2  \n",
    "12:24:41.320351 > Host: www.google.co.in  \n",
    "12:24:41.320351 > User-Agent: curl/7.54.0  \n",
    "12:24:41.320351 > Accept: */*  \n",
    "12:24:41.320351 >  \n",
    "12:24:41.324419 * Connection state changed (MAX_CONCURRENT_STREAMS updated)!  \n",
    "12:24:41.425512 < HTTP/2 200  \n",
    "12:24:41.425586 < date: Tue, 11 Dec 2018 06:54:41 GMT  \n",
    "12:24:41.425637 < expires: -1  \n",
    "12:24:41.425687 < cache-control: private, max-age=0  \n",
    "12:24:41.425741 < content-type: text/html; charset=ISO-8859-1  \n",
    "12:24:41.425793 < p3p: CP=\"This is not a P3P policy! See g.co/p3phelp for more info.\"  \n",
    "12:24:41.425845 < server: gws  \n",
    "12:24:41.425897 < x-xss-protection: 1; mode=block  \n",
    "12:24:41.425949 < x-frame-options: SAMEORIGIN  \n",
    "12:24:41.426026 < set-cookie: 1P_JAR=2018-12-11-06; expires=Thu, 10-Jan-2019 06:54:41 GMT; path=/; domain=.google.co.in  \n",
    "12:24:41.426180 < set-cookie: NID=150=pPHcNvIyWCtqTFQg8ywE9W6ZJEq7IgUcIdKsn5Od5SUcrW19sHBUblridrGt7zMn9IyRgUhJqvrJ0Hw5B9kkW51nJMsBQ9yTzwCtUYZUnGKq5E7sD5X7zNKmNXV7mmljGbb9CIqk1XigbExIVNozjA9uO_BJoPaO5gW93g_Z91I; expires=Wed, 12-Jun-2019 06:54:41 GMT; path=/; domain=.google.co.in; HttpOnly  \n",
    "12:24:41.426250 < alt-svc: quic=\":443\"; ma=2592000; v=\"44,43,39,35\"  \n",
    "12:24:41.426303 < accept-ranges: none  \n",
    "12:24:41.426377 < vary: Accept-Encoding  \n",
    "12:24:41.426457 <  \n",
    "12:24:41.426640 { [1388 bytes data]  \n",
    "12:24:41.428591 * Connection #0 to host www.google.co.in left intact  \n",
    "\n",
    "\n",
    "\n",
    "ContentType: text/html; charset=ISO-8859-1  \n",
    "ResponseCode: 200  \n",
    "URLEffective: https://www.google.co.in/  \n",
    "\n",
    "\n",
    "\n",
    "SizeDownload: 13548;\tSizeRquest: 78  \n",
    "SizeUpload: 0;\tSizeHeader: 759  \n",
    "\n",
    "\n",
    "\n",
    "TimeNameLookup: 0.004405  \n",
    "TimeConnect: 0.032078  \n",
    "TimeAppConnect: 0.133374  \n",
    "TimePreTransfer: 0.133973  \n",
    "TimeRedirect: 0.000000  \n",
    "TimeStartTransfer: 0.240047  \n",
    "TimeTotal: 0.241995  "
   ]
  },
  {
   "cell_type": "markdown",
   "metadata": {},
   "source": [
    "### Regarding curl timings from https://ec.haxx.se/usingcurl-verbose.html:  \n",
    "\n",
    "%{time_appconnect} shows the time, in seconds, it took from the start until the SSL/SSH/etc connect/handshake to the remote host was completed.  \n",
    "\n",
    "%{time_connect} shows the time, in seconds, it took from the start until the TCP connect to the remote host (or proxy) was completed.  \n",
    "\n",
    "%{time_namelookup} shows the time, in seconds, it took from the start until the name resolving was completed.  \n",
    "\n",
    "%{time_pretransfer} shows the time, in seconds, it took from the start until the file transfer was just about to begin. This includes all pre-transfer commands and negotiations that are specific to the particular protocol(s) involved.  \n",
    "\n",
    "%{time_redirect} shows the time, in seconds, it took for all redirection steps including name lookup, connect, pre-transfer and transfer before the final transaction was started. time_redirect shows the complete execution time for multiple redirections.  \n",
    "\n",
    "%{time_starttransfer} shows the time, in seconds, it took from the start until the first byte was just about to be transferred. This includes time_pretransfer and also the time the server needed to calculate the result.  \n",
    "\n",
    "%{time_total} shows the total time, in seconds, that the full operation lasted. The time will be displayed with millisecond resolution.  \n",
    "\n",
    "### Calculate Timings\n",
    "\n",
    "T0 = timer.start()    \n",
    "Tf = timer.stop()  \n",
    "\n",
    "\n",
    "if not using HTTPS/SSL: time_appconnect returned is 0, so set time_appconnect = time_connect\n",
    "\n",
    "t_dns = time for DNS resolution (no redirects) = time_namelookup - time_redirect  \n",
    "t_tcp = time for TCP connection (SYN/SYNACK) = time_connect - time_namelookup  \n",
    "t_ssl = time for SSL handshake (only if https) = time_appconnect - time_connect  \n",
    "t_fbyte = time_starttransfer\n",
    "t_wait = time between issuing GET request and first byte received = time_starttransfer - time_pretransfer  \n",
    "t_rx = time to receive data from first to last byte = time_total - time_starttransfer  \n",
    "\n",
    "\n",
    "t_calc = waiting time between SSL and GET request = time_pretransfer - time_appconnect  \n",
    "t_start = waiting time between issuing curl command and issuing first byte of data for DNS lookup  \n",
    "t_stop = waiting time between receiving last byte and ending the curl command  "
   ]
  },
  {
   "cell_type": "code",
   "execution_count": 47,
   "metadata": {},
   "outputs": [],
   "source": [
    "site = 'wikipedia.org'\n",
    "url = 'https://www.'+site+'/'"
   ]
  },
  {
   "cell_type": "code",
   "execution_count": 48,
   "metadata": {},
   "outputs": [
    {
     "ename": "CalledProcessError",
     "evalue": "Command '['curl', '--connect-timeout', '3.0', '-w', '@curl_time_format.txt', '-s', 'https://www.wikipedia.org/']' returned non-zero exit status 28.",
     "output_type": "error",
     "traceback": [
      "\u001b[0;31m---------------------------------------------------------------------------\u001b[0m",
      "\u001b[0;31mCalledProcessError\u001b[0m                        Traceback (most recent call last)",
      "\u001b[0;32m<ipython-input-48-9ca4c3a43132>\u001b[0m in \u001b[0;36m<module>\u001b[0;34m\u001b[0m\n\u001b[1;32m      1\u001b[0m out = subprocess.check_output(['curl', '--connect-timeout', '3.0', '-w', '@curl_time_format.txt',\n\u001b[0;32m----> 2\u001b[0;31m                                    '-s', url], stderr=subprocess.STDOUT, timeout=5.0).decode('UTF-8')\n\u001b[0m",
      "\u001b[0;32m/usr/local/Cellar/python/3.7.1/Frameworks/Python.framework/Versions/3.7/lib/python3.7/subprocess.py\u001b[0m in \u001b[0;36mcheck_output\u001b[0;34m(timeout, *popenargs, **kwargs)\u001b[0m\n\u001b[1;32m    387\u001b[0m \u001b[0;34m\u001b[0m\u001b[0m\n\u001b[1;32m    388\u001b[0m     return run(*popenargs, stdout=PIPE, timeout=timeout, check=True,\n\u001b[0;32m--> 389\u001b[0;31m                **kwargs).stdout\n\u001b[0m\u001b[1;32m    390\u001b[0m \u001b[0;34m\u001b[0m\u001b[0m\n\u001b[1;32m    391\u001b[0m \u001b[0;34m\u001b[0m\u001b[0m\n",
      "\u001b[0;32m/usr/local/Cellar/python/3.7.1/Frameworks/Python.framework/Versions/3.7/lib/python3.7/subprocess.py\u001b[0m in \u001b[0;36mrun\u001b[0;34m(input, capture_output, timeout, check, *popenargs, **kwargs)\u001b[0m\n\u001b[1;32m    479\u001b[0m         \u001b[0;32mif\u001b[0m \u001b[0mcheck\u001b[0m \u001b[0;32mand\u001b[0m \u001b[0mretcode\u001b[0m\u001b[0;34m:\u001b[0m\u001b[0;34m\u001b[0m\u001b[0;34m\u001b[0m\u001b[0m\n\u001b[1;32m    480\u001b[0m             raise CalledProcessError(retcode, process.args,\n\u001b[0;32m--> 481\u001b[0;31m                                      output=stdout, stderr=stderr)\n\u001b[0m\u001b[1;32m    482\u001b[0m     \u001b[0;32mreturn\u001b[0m \u001b[0mCompletedProcess\u001b[0m\u001b[0;34m(\u001b[0m\u001b[0mprocess\u001b[0m\u001b[0;34m.\u001b[0m\u001b[0margs\u001b[0m\u001b[0;34m,\u001b[0m \u001b[0mretcode\u001b[0m\u001b[0;34m,\u001b[0m \u001b[0mstdout\u001b[0m\u001b[0;34m,\u001b[0m \u001b[0mstderr\u001b[0m\u001b[0;34m)\u001b[0m\u001b[0;34m\u001b[0m\u001b[0;34m\u001b[0m\u001b[0m\n\u001b[1;32m    483\u001b[0m \u001b[0;34m\u001b[0m\u001b[0m\n",
      "\u001b[0;31mCalledProcessError\u001b[0m: Command '['curl', '--connect-timeout', '3.0', '-w', '@curl_time_format.txt', '-s', 'https://www.wikipedia.org/']' returned non-zero exit status 28."
     ]
    }
   ],
   "source": [
    "out = subprocess.check_output(['curl', '--connect-timeout', '3.0', '-w', '@curl_time_format.txt',\n",
    "                                   '-s', url], stderr=subprocess.STDOUT, timeout=5.0).decode('UTF-8')"
   ]
  },
  {
   "cell_type": "code",
   "execution_count": 71,
   "metadata": {},
   "outputs": [
    {
     "data": {
      "text/plain": [
       "{'url_effective': 'https://www.wikipedia.org/',\n",
       " 'response_code': 200,\n",
       " 'time_namelookup': 0.004959,\n",
       " 'time_connect': 0.163835,\n",
       " 'time_appconnect': 0.368026,\n",
       " 'time_pretransfer': 0.36818,\n",
       " 'time_redirect': 0.0,\n",
       " 'time_starttransfer': 0.951108,\n",
       " 'time_total': 1.299881}"
      ]
     },
     "execution_count": 71,
     "metadata": {},
     "output_type": "execute_result"
    }
   ],
   "source": [
    "#import sys\n",
    "import json\n",
    "#import re\n",
    "\n",
    "# useful when threading\n",
    "#sys.stdout.write(\".\")\n",
    "#sys.stdout.flush()\n",
    "\n",
    "p = subprocess.Popen(['curl', '-w', '@curl_time_format.txt', '-o', '/dev/null', '-s', url], stdout=subprocess.PIPE)\n",
    "out, err = p.communicate()\n",
    "\n",
    "# convert output string to python dict using json\n",
    "json.loads(out.decode('UTF-8'))\n",
    "\n",
    "#out = re.sub(r'(\\d+),(\\d+)', r'\\1.\\2', out.decode('UTF-8'))"
   ]
  },
  {
   "cell_type": "code",
   "execution_count": 56,
   "metadata": {},
   "outputs": [
    {
     "data": {
      "text/plain": [
       "'{\\n\"url_effective\": \"https://www.wikipedia.org/\",\\n\"response_code\": 200,\\n\"time_namelookup\": 0.005098,\\n\"time_connect\": 0.141439,\\n\"time_appconnect\": 0.338795,\\n\"time_pretransfer\": 0.338967,\\n\"time_redirect\": 0.000000,\\n\"time_starttransfer\": 0.428804,\\n\"time_total\": 1.205717\\n}\\n'"
      ]
     },
     "execution_count": 56,
     "metadata": {},
     "output_type": "execute_result"
    }
   ],
   "source": [
    "out"
   ]
  },
  {
   "cell_type": "code",
   "execution_count": 57,
   "metadata": {},
   "outputs": [],
   "source": [
    "err"
   ]
  },
  {
   "cell_type": "code",
   "execution_count": 68,
   "metadata": {},
   "outputs": [
    {
     "data": {
      "text/plain": [
       "{'url_effective': 'https://www.wikipedia.org/',\n",
       " 'response_code': 200,\n",
       " 'time_namelookup': 0.005098,\n",
       " 'time_connect': 0.141439,\n",
       " 'time_appconnect': 0.338795,\n",
       " 'time_pretransfer': 0.338967,\n",
       " 'time_redirect': 0.0,\n",
       " 'time_starttransfer': 0.428804,\n",
       " 'time_total': 1.205717}"
      ]
     },
     "execution_count": 68,
     "metadata": {},
     "output_type": "execute_result"
    }
   ],
   "source": [
    "\n",
    "\n",
    "json.loads(out)"
   ]
  },
  {
   "cell_type": "code",
   "execution_count": null,
   "metadata": {},
   "outputs": [],
   "source": []
  }
 ],
 "metadata": {
  "kernelspec": {
   "display_name": "Python 3",
   "language": "python",
   "name": "python3"
  },
  "language_info": {
   "codemirror_mode": {
    "name": "ipython",
    "version": 3
   },
   "file_extension": ".py",
   "mimetype": "text/x-python",
   "name": "python",
   "nbconvert_exporter": "python",
   "pygments_lexer": "ipython3",
   "version": "3.7.1"
  }
 },
 "nbformat": 4,
 "nbformat_minor": 2
}
