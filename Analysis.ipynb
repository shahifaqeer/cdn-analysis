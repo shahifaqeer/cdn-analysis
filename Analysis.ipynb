{
 "cells": [
  {
   "cell_type": "code",
   "execution_count": 234,
   "metadata": {},
   "outputs": [
    {
     "name": "stdout",
     "output_type": "stream",
     "text": [
      "Populating the interactive namespace from numpy and matplotlib\n",
      "The autoreload extension is already loaded. To reload it, use:\n",
      "  %reload_ext autoreload\n"
     ]
    }
   ],
   "source": [
    "from __future__ import division\n",
    "%pylab inline\n",
    "import pandas as pd\n",
    "import os\n",
    "import json\n",
    "from collections import defaultdict, Counter\n",
    "%load_ext autoreload\n",
    "%autoreload 2"
   ]
  },
  {
   "cell_type": "markdown",
   "metadata": {},
   "source": [
    "# 1. Number of sites per CDN and ASN"
   ]
  },
  {
   "cell_type": "code",
   "execution_count": 235,
   "metadata": {},
   "outputs": [],
   "source": [
    "df_all = pd.read_pickle('output/df_sites.pkl')\n",
    "df_asn_cdn = pd.read_pickle('output/df_asn_cdn.pkl')\n",
    "df_site_cdn_method_map = pd.read_pickle('output/df_site_cdn_method_map.pkl')"
   ]
  },
  {
   "cell_type": "code",
   "execution_count": 236,
   "metadata": {},
   "outputs": [
    {
     "data": {
      "text/html": [
       "<div>\n",
       "<style scoped>\n",
       "    .dataframe tbody tr th:only-of-type {\n",
       "        vertical-align: middle;\n",
       "    }\n",
       "\n",
       "    .dataframe tbody tr th {\n",
       "        vertical-align: top;\n",
       "    }\n",
       "\n",
       "    .dataframe thead th {\n",
       "        text-align: right;\n",
       "    }\n",
       "</style>\n",
       "<table border=\"1\" class=\"dataframe\">\n",
       "  <thead>\n",
       "    <tr style=\"text-align: right;\">\n",
       "      <th></th>\n",
       "      <th>rank</th>\n",
       "      <th>site</th>\n",
       "      <th>IP</th>\n",
       "      <th>ASN</th>\n",
       "      <th>cdn_parsed</th>\n",
       "      <th>cdn_whois</th>\n",
       "      <th>cdn</th>\n",
       "    </tr>\n",
       "  </thead>\n",
       "  <tbody>\n",
       "    <tr>\n",
       "      <th>0</th>\n",
       "      <td>1</td>\n",
       "      <td>google.com</td>\n",
       "      <td>172.217.160.238</td>\n",
       "      <td>15169</td>\n",
       "      <td>Google</td>\n",
       "      <td>Google</td>\n",
       "      <td>Google</td>\n",
       "    </tr>\n",
       "    <tr>\n",
       "      <th>1</th>\n",
       "      <td>2</td>\n",
       "      <td>youtube.com</td>\n",
       "      <td>172.217.31.14</td>\n",
       "      <td>15169</td>\n",
       "      <td>Google</td>\n",
       "      <td>Google</td>\n",
       "      <td>Google</td>\n",
       "    </tr>\n",
       "    <tr>\n",
       "      <th>2</th>\n",
       "      <td>3</td>\n",
       "      <td>facebook.com</td>\n",
       "      <td>157.240.25.35</td>\n",
       "      <td>32934</td>\n",
       "      <td>Facebook</td>\n",
       "      <td>Facebook</td>\n",
       "      <td>Facebook</td>\n",
       "    </tr>\n",
       "    <tr>\n",
       "      <th>3</th>\n",
       "      <td>4</td>\n",
       "      <td>baidu.com</td>\n",
       "      <td>123.125.115.110</td>\n",
       "      <td>4808</td>\n",
       "      <td>False</td>\n",
       "      <td>False</td>\n",
       "      <td>False</td>\n",
       "    </tr>\n",
       "    <tr>\n",
       "      <th>4</th>\n",
       "      <td>5</td>\n",
       "      <td>wikipedia.org</td>\n",
       "      <td>103.102.166.224</td>\n",
       "      <td>14907</td>\n",
       "      <td>False</td>\n",
       "      <td>False</td>\n",
       "      <td>False</td>\n",
       "    </tr>\n",
       "  </tbody>\n",
       "</table>\n",
       "</div>"
      ],
      "text/plain": [
       "   rank           site               IP    ASN cdn_parsed cdn_whois       cdn\n",
       "0     1     google.com  172.217.160.238  15169     Google    Google    Google\n",
       "1     2    youtube.com    172.217.31.14  15169     Google    Google    Google\n",
       "2     3   facebook.com    157.240.25.35  32934   Facebook  Facebook  Facebook\n",
       "3     4      baidu.com  123.125.115.110   4808      False     False     False\n",
       "4     5  wikipedia.org  103.102.166.224  14907      False     False     False"
      ]
     },
     "execution_count": 236,
     "metadata": {},
     "output_type": "execute_result"
    }
   ],
   "source": [
    "df_asn_cdn.head()"
   ]
  },
  {
   "cell_type": "markdown",
   "metadata": {},
   "source": [
    "## 1a. ASN Analysis\n",
    "- Rank ASNs by number of sites\n",
    "\n",
    "### Domain to IP and ASN\n",
    "- use socket.gethostaddr() to get IP for domain\n",
    "- use pyasn to get ASN (there are many methods and libraries to do this, pyasn lets you download routviews data)\n",
    "- 480 of 500 websites are resolved to an IP address. We will be using these reachable sites in our analysis.\n",
    "\n",
    "- Unreachable sites:\n",
    "    - 20 websites are blocked either directly by ISP (porn, adware, etc.)\n",
    "    - or we can't reach them due to bad DNS resolution/permissions (googleusercontent.com, cloudfront.net, etc.)"
   ]
  },
  {
   "cell_type": "code",
   "execution_count": 237,
   "metadata": {},
   "outputs": [
    {
     "name": "stdout",
     "output_type": "stream",
     "text": [
      "List of bad/unreachable sites: ['pornhub.com', 'ok.ru', 'livejasmin.com', 'xvideos.com', 'googleusercontent.com', 'xhamster.com', 'exosrv.com', 'xnxx.com', 'chaturbate.com', 'yts.am', 'youporn.com', '1337x.to', 'cloudfront.net', 'redtube.com', 'rutracker.org', 'banvenez.com', 'bp.blogspot.com', 'exdynsrv.com', 'sex.com', 'wixsite.com']\n"
     ]
    }
   ],
   "source": [
    "print(\"List of bad/unreachable sites: \",end=\"\"),\n",
    "print( list( df_all[ ( df_all['IP'] == False ) ]['site'] ) )"
   ]
  },
  {
   "cell_type": "markdown",
   "metadata": {},
   "source": [
    "### Domains per ASN\n",
    "\n",
    "- There are 190 unique ASNs serving 480 websites of the Alexa top 500.\n",
    "    - <font color = 'red'>231 websites are served by 8 ASNs: Google (15169: 69 sites), ? (13335: 38 sites), Amazon AWS (16509: 36 sites), ? (54113: 30 sittes), Akamai (16625: 17 sites), Amazon AWS (14618: 17 sites), ? (37963: 13 sites), (4808: 11 sites)</font>\n",
    "    - 37 ASNs serve 104 websites with each serving less than 10 but more than one.\n",
    "    - 145 ASNs serve a website each.\n",
    "\n",
    "- <font color = 'red'>There are x unique AS names</font>\n",
    "    - TODO\n",
    "\n"
   ]
  },
  {
   "cell_type": "code",
   "execution_count": 238,
   "metadata": {},
   "outputs": [],
   "source": [
    "num_sites_per_asn = df_asn_cdn.groupby([ 'ASN'])['rank'].count().sort_values(ascending = False)\n",
    "many_sites = num_sites_per_asn[ num_sites_per_asn > 1]"
   ]
  },
  {
   "cell_type": "code",
   "execution_count": 239,
   "metadata": {},
   "outputs": [
    {
     "name": "stdout",
     "output_type": "stream",
     "text": [
      "Number of ASNs serving 480 sites of Alexa top 500 =  190\n",
      "\n",
      "Number of ASNs serving only one site each =  145\n",
      "\n",
      "Number of ASNs serving more than one site but less than 10 =  37\n",
      "Number of sites served by above 37 ASNs ==  104\n",
      "\n",
      "Number of ASNs serving 10 or more websites each =  8\n",
      "Number of sites served by above top 8 ASNs =  231\n",
      "\n",
      "Top ASNs catering to 10 or more websites each, and number of websites: {15169: 69, 13335: 38, 16509: 36, 54113: 30, 16625: 17, 14618: 17, 37963: 13, 4808: 11}\n"
     ]
    }
   ],
   "source": [
    "print(\"Number of ASNs serving 480 sites of Alexa top 500 = \", len(num_sites_per_asn))\n",
    "\n",
    "print(\"\\nNumber of ASNs serving only one site each = \", len( num_sites_per_asn[ (num_sites_per_asn <= 1)] ))\n",
    "\n",
    "print(\"\\nNumber of ASNs serving more than one site but less than 10 = \", len( many_sites[many_sites < 10] ))\n",
    "print(\"Number of sites served by above 37 ASNs == \", sum( many_sites[many_sites < 10] ))\n",
    "                                                                                       \n",
    "print(\"\\nNumber of ASNs serving 10 or more websites each = \", len(many_sites[many_sites>=10]))\n",
    "print(\"Number of sites served by above top 8 ASNs = \", sum(many_sites[many_sites>=10]))\n",
    "\n",
    "print(\"\\nTop ASNs catering to 10 or more websites each, and number of websites: \", end=\"\")\n",
    "print(many_sites[many_sites>10].to_dict())\n"
   ]
  },
  {
   "cell_type": "markdown",
   "metadata": {},
   "source": [
    "# TODO"
   ]
  },
  {
   "cell_type": "code",
   "execution_count": 240,
   "metadata": {},
   "outputs": [],
   "source": [
    "# TODO\n",
    "# import pyasn\n",
    "# as_name_file = ??\n",
    "# asndb = pyasn.pyasn('data/...', as_name_file)\n",
    "# df_asn_cdn['AS_name'] = df_asn_cdn['ASN'].apply(asndb.get_as_name)\n",
    "# df_asn_cdn.groupby(['AS_name'])['rank'].count().sort_values(ascending = False)"
   ]
  },
  {
   "cell_type": "code",
   "execution_count": null,
   "metadata": {},
   "outputs": [],
   "source": []
  },
  {
   "cell_type": "code",
   "execution_count": null,
   "metadata": {},
   "outputs": [],
   "source": []
  },
  {
   "cell_type": "code",
   "execution_count": null,
   "metadata": {},
   "outputs": [],
   "source": []
  },
  {
   "cell_type": "markdown",
   "metadata": {},
   "source": [
    "## 1b. CDN Analysis\n",
    "- Filter the domains served by a CDN\n",
    "- Rank CDN providers by number of sites\n",
    "\n",
    "### Domain to CDN\n",
    "- use a CDN names list from wikipedia and various websites\n",
    "- use a CDN domains list from github that maps certain urls to the CDN served\n",
    "- Three methods are used to finally determine the CDN used by the site (code in find_cdn_methods.py) \n",
    "    1. Check if site itself is well known CDN by comparing it to CDN names and CDN domains\n",
    "    2. Counting sources on site:\n",
    "        - Download and parse the site homepage (using requests and BeautifulSoup) and find the url sources of static objects (images and scripts) as well as links on the webpage.\n",
    "        - Count objects per source url, and find the url with maximum or substantial traffic.\n",
    "        - Compare url to well known CDN domains. If it can't be resolved.\n",
    "    3. Parsing organization information for whois:\n",
    "        - Most websites have CDN provider in the whois information since their publically resolved IPs belong to the CDN\n",
    "        - Compare 'Organization' tag in whois to popular CDN names.\n",
    "- At times, method 2 gives us a certain cdn url with many static object (for ex: twitchcdn.net for twitch.tv) while the whois tells us which CDN the site uses (ex: Fastly for twitch.tv). This allows us to associate the cdn url or domain with the CDN name to populate our CDN_domain dictionary for future testing."
   ]
  },
  {
   "cell_type": "code",
   "execution_count": 293,
   "metadata": {},
   "outputs": [
    {
     "data": {
      "text/html": [
       "<div>\n",
       "<style scoped>\n",
       "    .dataframe tbody tr th:only-of-type {\n",
       "        vertical-align: middle;\n",
       "    }\n",
       "\n",
       "    .dataframe tbody tr th {\n",
       "        vertical-align: top;\n",
       "    }\n",
       "\n",
       "    .dataframe thead th {\n",
       "        text-align: right;\n",
       "    }\n",
       "</style>\n",
       "<table border=\"1\" class=\"dataframe\">\n",
       "  <thead>\n",
       "    <tr style=\"text-align: right;\">\n",
       "      <th></th>\n",
       "      <th>rank</th>\n",
       "      <th>site</th>\n",
       "      <th>IP</th>\n",
       "      <th>ASN</th>\n",
       "      <th>cdn_parsed</th>\n",
       "      <th>cdn_whois</th>\n",
       "      <th>cdn</th>\n",
       "    </tr>\n",
       "  </thead>\n",
       "  <tbody>\n",
       "    <tr>\n",
       "      <th>153</th>\n",
       "      <td>154</td>\n",
       "      <td>daum.net</td>\n",
       "      <td>211.231.99.80</td>\n",
       "      <td>38099</td>\n",
       "      <td>daumcdn.net</td>\n",
       "      <td>False</td>\n",
       "      <td>daumcdn.net</td>\n",
       "    </tr>\n",
       "    <tr>\n",
       "      <th>291</th>\n",
       "      <td>292</td>\n",
       "      <td>tistory.com</td>\n",
       "      <td>211.231.108.151</td>\n",
       "      <td>38099</td>\n",
       "      <td>daumcdn.net</td>\n",
       "      <td>False</td>\n",
       "      <td>daumcdn.net</td>\n",
       "    </tr>\n",
       "  </tbody>\n",
       "</table>\n",
       "</div>"
      ],
      "text/plain": [
       "     rank         site               IP    ASN   cdn_parsed cdn_whois  \\\n",
       "153   154     daum.net    211.231.99.80  38099  daumcdn.net     False   \n",
       "291   292  tistory.com  211.231.108.151  38099  daumcdn.net     False   \n",
       "\n",
       "             cdn  \n",
       "153  daumcdn.net  \n",
       "291  daumcdn.net  "
      ]
     },
     "execution_count": 293,
     "metadata": {},
     "output_type": "execute_result"
    }
   ],
   "source": [
    "df_asn_cdn[ df_asn_cdn['cdn']=='daumcdn.net' ]"
   ]
  },
  {
   "cell_type": "markdown",
   "metadata": {},
   "source": [
    "### Domains per CDNs\n",
    "- 134 of 480 valid sites were not using CDNs.\n",
    "    - The organization name in the whois record of these sites was either the site name itself or a hosting service that is not commonly known as a CDN provider.\n",
    "    - Majority of static resources (images and scripts) were either hosted locally (instead of externally on a separate domain), or they were hosted on multiple domains. So we could not confirm a single domain or url carrying most of the traffic when loading the home page.\n",
    "\n",
    "\n",
    "- 346 sites were using 101 (unconfirmed) CDNs. Of these 34 are confirmed and known CDNs while 66 are suspected CDNs.\n",
    "\n",
    "- CONFIRMED: 34 CDNs were confirmed resolved to known CDNs from an offline list of CDN names and popular CDN domains. These 34 CDNs catered to 279 of 480 sites.\n",
    "    - 4 of 34 known CDNs correspond to sites hosted on Amazon services counted individually (based on the returned whois records and urls: ['Amazon Technologies Inc.', 'Amazon AWS', 'Amazon.com, Inc.', 'Amazon CloudFront']). We have assumed that sites using Amazon hosting services are also using Cloudfront as their CDN (this may not be true in reality). Total sites catered by Amazon's 4 CDNs is 54.\n",
    "    - 5 major CDNs with a large market share are ['Google', 'Cloudflare', 'Alibaba', 'Fastly', 'Akamai']. Total sites catered by these 5 major CDN providers is 180. Including Amazon, 234 sites were confirmed using these 6 major CDNs.\n",
    "    - Total sites catered by 25 other known CDN providers (including 'MaxCDN', 'EdgeCast', 'Open-Connect', etc.) is 45. Some of these popular CDNs, such as 'Open-Connect', only cater to a single popular domain (netflix.com). Others (like Incapsula) cater to multiple sites (prothomalo.com, kooora.com) that are too low on the Alexa ranking.\n",
    "\n",
    "- UNCONFIRMED: 66 URLs hosted majority of static objects (images and scripts) on the home page of the site. This behavior may indicate that it is a CDN, or it may be a static address that is not the same as the site we are checking. Of 66, only 'daumcdn.net' catered to two websites ('daum.net', 'tistory.com'), bringing the total to 67 sites.\n",
    "    - We decided that there is a higher chance of such urls being a CDN if the url itself contains the string 'cdn'. Since this is not a confirmed method, we will continue the timing analysis of all 66 URLs considering them as unknown CDNs.\n",
    "    - 37 of 66 URLs contained the string 'cdn', catering to 38 websites. For example: 'assets-cdn.github.com', 'cdn2.tstatic.net', 'line-scdn.net', etc.\n",
    "    - 29 of 66 URLs do not contain the string 'cdn' and have a higher chance of being a static domain that doesn't match the site domain name and doesn't have a well known 'Organization' name in its whois. These 29 CDNs served 29 websites individually. This list contained 'www.googleadservices.com' (cobalten.com) and 'cfl.dropboxstatic.com' (dropbox.com), indicating that a majority of resources on these websites were hosted on the two URLs. While cobalten.com is not on Google Cloud, dropbox.com has a high chance of utilizing CDNs. Since this can't be confirmed we're analyzing all such sites with the assumption that they are on CDNs.\n"
   ]
  },
  {
   "cell_type": "code",
   "execution_count": 324,
   "metadata": {
    "scrolled": true
   },
   "outputs": [
    {
     "name": "stdout",
     "output_type": "stream",
     "text": [
      "Number of sites estimated not using CDNs =  134\n",
      "Total number of CDNs (unconfirmed) =  101\n",
      "Number of sites estimated using CDNs =  346\n"
     ]
    }
   ],
   "source": [
    "num_sites_per_cdn = df_asn_cdn.groupby('cdn')['rank'].count().sort_values(ascending=False)\n",
    "\n",
    "print(\"Number of sites estimated not using CDNs = \", num_sites_per_cdn[False])\n",
    "print(\"Total number of CDNs (unconfirmed) = \", len(num_sites_per_cdn))\n",
    "print(\"Number of sites estimated using CDNs = \", (sum(num_sites_per_cdn) - num_sites_per_cdn[False]) )"
   ]
  },
  {
   "cell_type": "code",
   "execution_count": 325,
   "metadata": {},
   "outputs": [
    {
     "name": "stdout",
     "output_type": "stream",
     "text": [
      "Number of known and resolved CDNs (based on whois and well known names): 34\n",
      "Number of websites served by known and resolved CDNs: 279\n",
      "Number of unresolved or unknown URLs that seem like CDNs: 66\n",
      "Number of websites served by unresolved or unknown URLs that seem like CDNs: 67\n",
      "\n",
      "List of known CDNs and number of websites:\n",
      "\n",
      " {'Google': 70, 'Cloudflare': 39, 'Amazon Technologies Inc.': 32, 'Fastly': 30, 'Akamai': 29, 'Alibaba': 12, 'Amazon AWS': 12, 'Amazon.com, Inc.': 6, 'Microsoft': 5, 'Yahoo': 5, 'OVH': 4, 'Facebook': 4, 'Amazon CloudFront': 4, 'Twitter': 3, 'Incapsula': 2, 'LinkedIn CDN': 2, 'SoftLayer': 2, 'ChinaNetCenter': 2, 'Open-Connect (Netflix)': 1, 'WordPress': 1, 'Taobao': 1, 'StackPath': 1, 'Sohu': 1, 'Reflected Networks': 1, 'Orange': 1, 'Level 3': 1, 'Internap': 1, 'Instart Logic': 1, 'Hola': 1, 'HiNet': 1, 'Edgecast': 1, 'Comcast': 1, 'ChinaCache': 1, 'jsDelivr': 1}\n",
      "\n",
      "\n",
      "List of unknown URLs that may or may not be CDNs:\n",
      "\n",
      " ['daumcdn.net', 'c5.rgstatic.net', 'awscdn.detik.net.id', 'assets.allegrostatic.com', 'cdn.elsevier.io', 'cdn.idntimes.com', 'cdn.nimg.jp', 'assets-cdn.github.com', 'aspnetcdn.com', 'aolcdn.com', 'ak.staticimgfarm.com', 'a.fsdn.com', 'a.academia-assets.com', 'cdn.okezone.com', 'cdn.caijing.com.cn', 'cdn.pixabay.com', 'cdn.patria.org.ve', 'yyweb.yystatic.com', 'www2.bac-assets.com', 'js.jrjimg.cn', 'line-scdn.net', 'list.tmall.com', 'news.livedoor.com', 'ocdn.eu', 'picdn.net', 'rbxcdn.com', 'rukminim1.flixcart.com', 's.kaskus.id', 's.pximg.net', 's2.glbimg.com', 'sogoucdn.com', 'static.tianyaui.com', 'static2.farakav.com', 'uecdn.es', 'wordpress.com', 'www.avito.st', 'www.baidu.com', 'www.googleadservices.com', 'www.pixfs.net', 'www.shopify.com', 'www01.wellsfargomedia.com', 'ir.plug.it', 'cdn.samsung.com', 'img1.kakaku.k-img.com', 'cdn.seasonvar.ru', 'cdn.smassets.net', 'cdn.xiongmaoxingyan.com', 'cdn03.boxcdn.net', 'cdn2.editmysite.com', 'cdn2.ettoday.net', 'cdn2.jianshu.io', 'cdn2.tstatic.net', 'cdn21.img.ria.ru', 'cdni.rt.com', 'cdns.klimg.com', 'cfl.dropboxstatic.com', 'csdnimg.cn', 'dellcdn.com', 'divarcdn.com', 'dmcdn.net', 'douyucdn.cn', 'dyncdn.me', 'gannett-cdn.com', 'gu-st.ru', 'i.ebayimg.com', 'cdn.reverso.net']\n"
     ]
    }
   ],
   "source": [
    "known_cdn = {}\n",
    "unknown_cdn = {}\n",
    "sum_dict = lambda v: sum([x for x in v.values() ])\n",
    "\n",
    "for n, i in num_sites_per_cdn.items():\n",
    "    if n:\n",
    "        if n.lower() != n:\n",
    "            # if some letters are capital, it should be resolved CDN.\n",
    "            known_cdn[n] = i\n",
    "        else:\n",
    "            # very simple check for url: all letters are not capitalized.\n",
    "            unknown_cdn[n] = i\n",
    "\n",
    "print( \"Number of known and resolved CDNs (based on whois and well known names): %s\" %len(known_cdn) )\n",
    "print( \"Number of websites served by known and resolved CDNs: %s\" % (sum_dict(known_cdn)) )\n",
    "\n",
    "print(\"Number of unresolved or unknown URLs that seem like CDNs: %s\" % (len(unknown_cdn)) )\n",
    "print(\"Number of websites served by unresolved or unknown URLs that seem like CDNs: %s\" % (sum_dict(unknown_cdn)) )\n",
    "\n",
    "print(\"\\nList of known CDNs and number of websites:\\n\\n\", known_cdn)\n",
    "\n",
    "print(\"\\n\\nList of unknown URLs that may or may not be CDNs:\\n\\n\", list( unknown_cdn.keys()) )\n"
   ]
  },
  {
   "cell_type": "code",
   "execution_count": 327,
   "metadata": {},
   "outputs": [
    {
     "name": "stdout",
     "output_type": "stream",
     "text": [
      "Unknown CDNs based on url (contain string 'cdn'): 37\n",
      "Unknown urls that might not be CDNs: 29\n"
     ]
    },
    {
     "data": {
      "text/html": [
       "<div>\n",
       "<style scoped>\n",
       "    .dataframe tbody tr th:only-of-type {\n",
       "        vertical-align: middle;\n",
       "    }\n",
       "\n",
       "    .dataframe tbody tr th {\n",
       "        vertical-align: top;\n",
       "    }\n",
       "\n",
       "    .dataframe thead th {\n",
       "        text-align: right;\n",
       "    }\n",
       "</style>\n",
       "<table border=\"1\" class=\"dataframe\">\n",
       "  <thead>\n",
       "    <tr style=\"text-align: right;\">\n",
       "      <th></th>\n",
       "      <th>rank</th>\n",
       "      <th>site</th>\n",
       "      <th>IP</th>\n",
       "      <th>ASN</th>\n",
       "      <th>cdn_parsed</th>\n",
       "      <th>cdn_whois</th>\n",
       "      <th>cdn</th>\n",
       "    </tr>\n",
       "  </thead>\n",
       "  <tbody>\n",
       "    <tr>\n",
       "      <th>80</th>\n",
       "      <td>81</td>\n",
       "      <td>dropbox.com</td>\n",
       "      <td>162.125.248.1</td>\n",
       "      <td>19679</td>\n",
       "      <td>cfl.dropboxstatic.com</td>\n",
       "      <td>False</td>\n",
       "      <td>cfl.dropboxstatic.com</td>\n",
       "    </tr>\n",
       "    <tr>\n",
       "      <th>150</th>\n",
       "      <td>151</td>\n",
       "      <td>cobalten.com</td>\n",
       "      <td>188.72.213.176</td>\n",
       "      <td>35415</td>\n",
       "      <td>www.googleadservices.com</td>\n",
       "      <td>False</td>\n",
       "      <td>www.googleadservices.com</td>\n",
       "    </tr>\n",
       "  </tbody>\n",
       "</table>\n",
       "</div>"
      ],
      "text/plain": [
       "     rank          site              IP    ASN                cdn_parsed  \\\n",
       "80     81   dropbox.com   162.125.248.1  19679     cfl.dropboxstatic.com   \n",
       "150   151  cobalten.com  188.72.213.176  35415  www.googleadservices.com   \n",
       "\n",
       "    cdn_whois                       cdn  \n",
       "80      False     cfl.dropboxstatic.com  \n",
       "150     False  www.googleadservices.com  "
      ]
     },
     "execution_count": 327,
     "metadata": {},
     "output_type": "execute_result"
    }
   ],
   "source": [
    "# simplistic logic to separate unknown sites\n",
    "unknown_cdn_cnt = 0\n",
    "unknown_url_cnt = 0\n",
    "\n",
    "for n in unknown_cdn.keys():\n",
    "    if 'cdn' in n:\n",
    "        unknown_cdn_cnt += 1\n",
    "    #elif n in ['aws.amazon.com', 'www.googleadservices.com']:\n",
    "    #    known_cdn_cnt += 1\n",
    "    else:\n",
    "        unknown_url_cnt += 1\n",
    "        #print (n)\n",
    "        \n",
    "print(\"Unknown CDNs based on url (contain string 'cdn'): %s\\nUnknown urls that might not be CDNs: %s\" \\\n",
    "      % (unknown_cdn_cnt, unknown_url_cnt))\n",
    "\n",
    "df_asn_cdn[ df_asn_cdn['cdn'].isin( ['cfl.dropboxstatic.com', 'www.googleadservices.com'] ) ]"
   ]
  },
  {
   "cell_type": "code",
   "execution_count": 317,
   "metadata": {},
   "outputs": [
    {
     "name": "stdout",
     "output_type": "stream",
     "text": [
      "Number of known CDNs (resolved) or URLs catering to majority static objects on one site's homepage: 81\n",
      "\n",
      "Number of sites confirmed using CDNs (multiple sites per CDN) =  265\n",
      "Number of sites using 1 CDN each (only one site per known CDN + 1 url that may be CDNs) =  81\n",
      "\n",
      "CDN providers (more than 1 site each) and number of sites:\n",
      "cdn\n",
      "Google                      70\n",
      "Cloudflare                  39\n",
      "Amazon Technologies Inc.    32\n",
      "Fastly                      30\n",
      "Akamai                      29\n",
      "Alibaba                     12\n",
      "Amazon AWS                  12\n",
      "Amazon.com, Inc.             6\n",
      "Microsoft                    5\n",
      "Yahoo                        5\n",
      "OVH                          4\n",
      "Facebook                     4\n",
      "Amazon CloudFront            4\n",
      "Twitter                      3\n",
      "Incapsula                    2\n",
      "LinkedIn CDN                 2\n",
      "SoftLayer                    2\n",
      "daumcdn.net                  2\n",
      "ChinaNetCenter               2\n",
      "Name: rank, dtype: int64\n"
     ]
    }
   ],
   "source": [
    "only_one_site = num_sites_per_cdn[ num_sites_per_cdn <= 1]\n",
    "many_sites = num_sites_per_cdn[ num_sites_per_cdn > 1]\n",
    "\n",
    "print(\"Number of known CDNs (resolved) or URLs catering to majority static objects on one site's homepage:\",\n",
    "      len(only_one_site))\n",
    "\n",
    "print(\"\\nNumber of sites confirmed using CDNs (multiple sites per CDN) = \", (sum(many_sites) - many_sites[False]))\n",
    "print(\"Number of sites using 1 CDN each (only one site per known CDN + 1 url that may be CDNs) = \", sum(only_one_site))\n",
    "\n",
    "print(\"\\nCDN providers (more than 1 site each) and number of sites:\")\n",
    "print(many_sites[ many_sites.index!=False ])"
   ]
  },
  {
   "cell_type": "code",
   "execution_count": 342,
   "metadata": {},
   "outputs": [
    {
     "name": "stdout",
     "output_type": "stream",
     "text": [
      "List of Amazon CDN providers as resolved by whois: \n",
      " ['Amazon Technologies Inc.', 'Amazon AWS', 'Amazon.com, Inc.', 'Amazon CloudFront']\n",
      "List of major CDN providers with most customer sites (excluding Amazon): \n",
      " ['Google', 'Cloudflare', 'Alibaba', 'Fastly', 'Akamai'] \n",
      "\n",
      "Total sites catered by Amazon's 4 CDNs is 54\n",
      "Total sites catered by 5 other major CDN providers is 180\n",
      "Total sites catered by 25 other known CDN providers is 45\n"
     ]
    }
   ],
   "source": [
    "# Count sites using 6 major well known CDNs that cater to most of the market\n",
    "\n",
    "major_known_cdns = ['Google', 'Cloudflare', 'Alibaba', 'Fastly', 'Akamai']\n",
    "amazon_cdns = ['Amazon Technologies Inc.', 'Amazon AWS', 'Amazon.com, Inc.', 'Amazon CloudFront']\n",
    "\n",
    "major_cdn_site_cnt = 0\n",
    "amazon_cdn_site_cnt = 0\n",
    "other_cdn_cnt = 0\n",
    "other_cdn_site_cnt = 0\n",
    "for n, i in known_cdn.items():\n",
    "    if n in major_known_cdns:\n",
    "        major_cdn_site_cnt += i\n",
    "    elif n in amazon_cdns:\n",
    "        amazon_cdn_site_cnt += i\n",
    "    else:\n",
    "        other_cdn_cnt += 1\n",
    "        other_cdn_site_cnt += i\n",
    "\n",
    "print(\"List of Amazon CDN providers as resolved by whois: \\n\", amazon_cdns)\n",
    "print(\"List of major CDN providers with most customer sites (excluding Amazon): \\n\", major_known_cdns, \"\\n\")\n",
    "\n",
    "print(\"Total sites catered by Amazon's %s CDNs is %s\" % (len(amazon_cdns), amazon_cdn_site_cnt))\n",
    "print(\"Total sites catered by %s other major CDN providers is %s\" % (len(major_known_cdns), major_cdn_site_cnt))\n",
    "print(\"Total sites catered by %s other known CDN providers is %s\" % (other_cdn_cnt, other_cdn_site_cnt))"
   ]
  },
  {
   "cell_type": "code",
   "execution_count": 344,
   "metadata": {},
   "outputs": [
    {
     "data": {
      "text/html": [
       "<div>\n",
       "<style scoped>\n",
       "    .dataframe tbody tr th:only-of-type {\n",
       "        vertical-align: middle;\n",
       "    }\n",
       "\n",
       "    .dataframe tbody tr th {\n",
       "        vertical-align: top;\n",
       "    }\n",
       "\n",
       "    .dataframe thead th {\n",
       "        text-align: right;\n",
       "    }\n",
       "</style>\n",
       "<table border=\"1\" class=\"dataframe\">\n",
       "  <thead>\n",
       "    <tr style=\"text-align: right;\">\n",
       "      <th></th>\n",
       "      <th>rank</th>\n",
       "      <th>site</th>\n",
       "      <th>IP</th>\n",
       "      <th>ASN</th>\n",
       "      <th>cdn_parsed</th>\n",
       "      <th>cdn_whois</th>\n",
       "      <th>cdn</th>\n",
       "    </tr>\n",
       "  </thead>\n",
       "  <tbody>\n",
       "    <tr>\n",
       "      <th>2</th>\n",
       "      <td>3</td>\n",
       "      <td>facebook.com</td>\n",
       "      <td>157.240.25.35</td>\n",
       "      <td>32934</td>\n",
       "      <td>Facebook</td>\n",
       "      <td>Facebook</td>\n",
       "      <td>Facebook</td>\n",
       "    </tr>\n",
       "    <tr>\n",
       "      <th>6</th>\n",
       "      <td>7</td>\n",
       "      <td>yahoo.com</td>\n",
       "      <td>72.30.35.10</td>\n",
       "      <td>26101</td>\n",
       "      <td>Yahoo</td>\n",
       "      <td>Yahoo</td>\n",
       "      <td>Yahoo</td>\n",
       "    </tr>\n",
       "    <tr>\n",
       "      <th>18</th>\n",
       "      <td>19</td>\n",
       "      <td>instagram.com</td>\n",
       "      <td>52.45.71.129</td>\n",
       "      <td>14618</td>\n",
       "      <td>Facebook</td>\n",
       "      <td>Amazon Technologies Inc.</td>\n",
       "      <td>Facebook</td>\n",
       "    </tr>\n",
       "    <tr>\n",
       "      <th>28</th>\n",
       "      <td>29</td>\n",
       "      <td>yahoo.co.jp</td>\n",
       "      <td>183.79.135.206</td>\n",
       "      <td>24572</td>\n",
       "      <td>Yahoo</td>\n",
       "      <td>Yahoo</td>\n",
       "      <td>Yahoo</td>\n",
       "    </tr>\n",
       "    <tr>\n",
       "      <th>79</th>\n",
       "      <td>80</td>\n",
       "      <td>fbcdn.net</td>\n",
       "      <td>157.240.13.35</td>\n",
       "      <td>32934</td>\n",
       "      <td>Facebook</td>\n",
       "      <td>Facebook</td>\n",
       "      <td>Facebook</td>\n",
       "    </tr>\n",
       "    <tr>\n",
       "      <th>230</th>\n",
       "      <td>231</td>\n",
       "      <td>messenger.com</td>\n",
       "      <td>157.240.13.14</td>\n",
       "      <td>32934</td>\n",
       "      <td>False</td>\n",
       "      <td>Facebook</td>\n",
       "      <td>Facebook</td>\n",
       "    </tr>\n",
       "    <tr>\n",
       "      <th>350</th>\n",
       "      <td>351</td>\n",
       "      <td>aol.com</td>\n",
       "      <td>106.10.218.150</td>\n",
       "      <td>56173</td>\n",
       "      <td>aolcdn.com</td>\n",
       "      <td>Yahoo</td>\n",
       "      <td>Yahoo</td>\n",
       "    </tr>\n",
       "    <tr>\n",
       "      <th>403</th>\n",
       "      <td>404</td>\n",
       "      <td>flickr.com</td>\n",
       "      <td>69.147.88.7</td>\n",
       "      <td>36088</td>\n",
       "      <td>Yahoo</td>\n",
       "      <td>Yahoo</td>\n",
       "      <td>Yahoo</td>\n",
       "    </tr>\n",
       "    <tr>\n",
       "      <th>445</th>\n",
       "      <td>446</td>\n",
       "      <td>prothomalo.com</td>\n",
       "      <td>107.154.248.36</td>\n",
       "      <td>19551</td>\n",
       "      <td>paloimages.prothom-alo.com</td>\n",
       "      <td>Incapsula</td>\n",
       "      <td>Incapsula</td>\n",
       "    </tr>\n",
       "    <tr>\n",
       "      <th>481</th>\n",
       "      <td>482</td>\n",
       "      <td>kooora.com</td>\n",
       "      <td>107.154.102.19</td>\n",
       "      <td>19551</td>\n",
       "      <td>False</td>\n",
       "      <td>Incapsula</td>\n",
       "      <td>Incapsula</td>\n",
       "    </tr>\n",
       "    <tr>\n",
       "      <th>494</th>\n",
       "      <td>495</td>\n",
       "      <td>oath.com</td>\n",
       "      <td>212.82.100.153</td>\n",
       "      <td>34010</td>\n",
       "      <td>s.blogsmithmedia.com</td>\n",
       "      <td>Yahoo</td>\n",
       "      <td>Yahoo</td>\n",
       "    </tr>\n",
       "  </tbody>\n",
       "</table>\n",
       "</div>"
      ],
      "text/plain": [
       "     rank            site              IP    ASN                  cdn_parsed  \\\n",
       "2       3    facebook.com   157.240.25.35  32934                    Facebook   \n",
       "6       7       yahoo.com     72.30.35.10  26101                       Yahoo   \n",
       "18     19   instagram.com    52.45.71.129  14618                    Facebook   \n",
       "28     29     yahoo.co.jp  183.79.135.206  24572                       Yahoo   \n",
       "79     80       fbcdn.net   157.240.13.35  32934                    Facebook   \n",
       "230   231   messenger.com   157.240.13.14  32934                       False   \n",
       "350   351         aol.com  106.10.218.150  56173                  aolcdn.com   \n",
       "403   404      flickr.com     69.147.88.7  36088                       Yahoo   \n",
       "445   446  prothomalo.com  107.154.248.36  19551  paloimages.prothom-alo.com   \n",
       "481   482      kooora.com  107.154.102.19  19551                       False   \n",
       "494   495        oath.com  212.82.100.153  34010        s.blogsmithmedia.com   \n",
       "\n",
       "                    cdn_whois        cdn  \n",
       "2                    Facebook   Facebook  \n",
       "6                       Yahoo      Yahoo  \n",
       "18   Amazon Technologies Inc.   Facebook  \n",
       "28                      Yahoo      Yahoo  \n",
       "79                   Facebook   Facebook  \n",
       "230                  Facebook   Facebook  \n",
       "350                     Yahoo      Yahoo  \n",
       "403                     Yahoo      Yahoo  \n",
       "445                 Incapsula  Incapsula  \n",
       "481                 Incapsula  Incapsula  \n",
       "494                     Yahoo      Yahoo  "
      ]
     },
     "execution_count": 344,
     "metadata": {},
     "output_type": "execute_result"
    }
   ],
   "source": [
    "df_asn_cdn[ df_asn_cdn['cdn'].isin( ['Yahoo', 'Facebook', 'Incapsula'] ) ]"
   ]
  },
  {
   "cell_type": "markdown",
   "metadata": {},
   "source": [
    "# 1c. Association between CDN and ASN/AS name"
   ]
  },
  {
   "cell_type": "code",
   "execution_count": 203,
   "metadata": {},
   "outputs": [],
   "source": [
    "# TODO"
   ]
  },
  {
   "cell_type": "code",
   "execution_count": null,
   "metadata": {},
   "outputs": [],
   "source": []
  },
  {
   "cell_type": "code",
   "execution_count": null,
   "metadata": {},
   "outputs": [],
   "source": []
  },
  {
   "cell_type": "markdown",
   "metadata": {},
   "source": [
    "# 2. Site timings per CDN"
   ]
  },
  {
   "cell_type": "code",
   "execution_count": null,
   "metadata": {},
   "outputs": [],
   "source": []
  },
  {
   "cell_type": "code",
   "execution_count": null,
   "metadata": {},
   "outputs": [],
   "source": []
  },
  {
   "cell_type": "code",
   "execution_count": null,
   "metadata": {},
   "outputs": [],
   "source": []
  },
  {
   "cell_type": "code",
   "execution_count": null,
   "metadata": {},
   "outputs": [],
   "source": []
  }
 ],
 "metadata": {
  "kernelspec": {
   "display_name": "Python 3",
   "language": "python",
   "name": "python3"
  },
  "language_info": {
   "codemirror_mode": {
    "name": "ipython",
    "version": 3
   },
   "file_extension": ".py",
   "mimetype": "text/x-python",
   "name": "python",
   "nbconvert_exporter": "python",
   "pygments_lexer": "ipython3",
   "version": "3.7.1"
  }
 },
 "nbformat": 4,
 "nbformat_minor": 2
}
