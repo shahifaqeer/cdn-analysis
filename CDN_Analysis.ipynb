{
 "cells": [
  {
   "cell_type": "code",
   "execution_count": 2,
   "metadata": {},
   "outputs": [
    {
     "name": "stdout",
     "output_type": "stream",
     "text": [
      "Populating the interactive namespace from numpy and matplotlib\n"
     ]
    }
   ],
   "source": [
    "from __future__ import division\n",
    "%pylab inline\n",
    "import pandas as pd\n",
    "import numpy as np\n",
    "import subprocess\n",
    "import os, sys, re\n",
    "from collections import defaultdict\n",
    "#import matplotlib\n",
    "#matplotlib.use('Agg')\n",
    "#%matplotlib nbagg\n",
    "#import matplotlib.pyplot as plt"
   ]
  },
  {
   "cell_type": "markdown",
   "metadata": {},
   "source": [
    "# Challenge\n",
    "\n",
    "Write a Python program (OSX or Linux preferred) that queries to the top 500 Alexa domains/sites:\n",
    "- http://www.alexa.com/topsites\n",
    "- https://www.dropbox.com/s/pqsimknj77ywqbn/top-1m.csv.tar.gz?dl=0\n",
    "\n",
    "### CDN analysis\n",
    "\n",
    "- Filter the domains served by a CDN (e.g., Akamai)\n",
    "- Rank CDN providers by number of sites\n",
    "- Calculate the average response time for the index page of each site (aka Time To First Byte) per CDN provider, and rank them by speed (separate DNS resolution, TCP connection, SSL negotiation and receive time ideally);\n",
    "\n",
    "### BGP analysis\n",
    "\n",
    "- Determine the ASN that each of the 500 sites maps to (based on hosting IP address)\n",
    "- Rank ASNs by number of sites"
   ]
  },
  {
   "cell_type": "code",
   "execution_count": 3,
   "metadata": {},
   "outputs": [],
   "source": [
    "def getCDF(data):\n",
    "    xdata = np.sort(data)\n",
    "    ydata = [i/len(xdata) for i in range(len(xdata))]\n",
    "    return xdata, ydata"
   ]
  },
  {
   "cell_type": "markdown",
   "metadata": {},
   "source": [
    "# CDN Analysis\n",
    "\n",
    "## Load Data\n",
    "load top 500 alexa websites from csv"
   ]
  },
  {
   "cell_type": "code",
   "execution_count": 4,
   "metadata": {},
   "outputs": [],
   "source": [
    "#sites = pd.read_csv('top-1m.csv', nrows=500, header = None, names = ['rank', 'url'])\n",
    "sites = pd.read_csv('top-1m-new.csv', nrows=500, header = None, names = ['rank', 'site'])"
   ]
  },
  {
   "cell_type": "markdown",
   "metadata": {},
   "source": [
    "## Get CDN for website\n",
    "- using whois on IP address (via nslookup for domain)\n",
    "- extract fields from DNS headers\n",
    "- checking IP from multiple server locations\n",
    "- downloading all objects on the website homepage"
   ]
  },
  {
   "cell_type": "code",
   "execution_count": 5,
   "metadata": {},
   "outputs": [
    {
     "data": {
      "text/plain": [
       "'wikipedia.org'"
      ]
     },
     "execution_count": 5,
     "metadata": {},
     "output_type": "execute_result"
    }
   ],
   "source": [
    "site = sites['site'][4]\n",
    "site"
   ]
  },
  {
   "cell_type": "markdown",
   "metadata": {},
   "source": [
    "### get IP address using host -t a <site\\>"
   ]
  },
  {
   "cell_type": "code",
   "execution_count": 6,
   "metadata": {},
   "outputs": [],
   "source": [
    "def getIP(site):\n",
    "    # use host command to get IP for site (domain url netloc)\n",
    "    # use timeout of 5.0 s for sites that are firewalled and can't be looked up\n",
    "    try:\n",
    "        out = subprocess.check_output(['host', '-t', 'a', site], stderr=subprocess.STDOUT, timeout=5.0).decode('UTF-8')\n",
    "        # set site IP as first IP address returned by host command - using split is more efficient than regex\n",
    "        site_IP = out.split('\\n')[0].split(\" \")[-1]\n",
    "    except:\n",
    "        print('host '+site+' process ran too long')\n",
    "        site_IP = ''\n",
    "    return site_IP"
   ]
  },
  {
   "cell_type": "code",
   "execution_count": 7,
   "metadata": {},
   "outputs": [
    {
     "data": {
      "text/plain": [
       "'172.217.167.46'"
      ]
     },
     "execution_count": 7,
     "metadata": {},
     "output_type": "execute_result"
    }
   ],
   "source": [
    "getIP('google.com')"
   ]
  },
  {
   "cell_type": "code",
   "execution_count": 8,
   "metadata": {},
   "outputs": [
    {
     "name": "stdout",
     "output_type": "stream",
     "text": [
      "host pornhub.com process ran too long\n",
      "host ok.ru process ran too long\n",
      "host livejasmin.com process ran too long\n",
      "host xvideos.com process ran too long\n",
      "host xhamster.com process ran too long\n",
      "host xnxx.com process ran too long\n",
      "host chaturbate.com process ran too long\n",
      "host yts.am process ran too long\n",
      "host youporn.com process ran too long\n",
      "host 1337x.to process ran too long\n",
      "host redtube.com process ran too long\n",
      "host rutracker.org process ran too long\n",
      "host sex.com process ran too long\n"
     ]
    }
   ],
   "source": [
    "sites['IP_addr'] = sites['site'].apply(getIP)"
   ]
  },
  {
   "cell_type": "markdown",
   "metadata": {},
   "source": [
    "### ensure IP is valid "
   ]
  },
  {
   "cell_type": "code",
   "execution_count": 9,
   "metadata": {},
   "outputs": [],
   "source": [
    "import ipaddress\n",
    "\n",
    "def validateIP(site_IP):\n",
    "    try:\n",
    "        ipaddress.ip_address(site_IP)\n",
    "        return True\n",
    "    except:\n",
    "        return False"
   ]
  },
  {
   "cell_type": "code",
   "execution_count": 10,
   "metadata": {},
   "outputs": [],
   "source": [
    "sites['isValidIP'] = sites['IP_addr'].apply(validateIP)"
   ]
  },
  {
   "cell_type": "markdown",
   "metadata": {},
   "source": [
    "### find organization and email servers using whois <IPADDR\\>"
   ]
  },
  {
   "cell_type": "code",
   "execution_count": 11,
   "metadata": {},
   "outputs": [],
   "source": [
    "def findOrg(site_IP):\n",
    "    # use whois <IPADDR> to find and parse the organization and email server of site_IP\n",
    "    # return dict {Org, OrgName, Email}\n",
    "    \n",
    "    Org = []\n",
    "    OrgName = []\n",
    "    EmailServer = []\n",
    "    exclude_orgs = ['AFRINIC','APNIC','ARIN','LACNIC','IANA', 'Asia Pacific Network Information Centre']\n",
    "    \n",
    "    try:\n",
    "        out2 = subprocess.check_output(['whois', site_IP], stderr=subprocess.STDOUT, timeout=5.0).decode('UTF-8')\n",
    "\n",
    "        for line in out2.split('\\n'):\n",
    "            lower_line = line.lower()\n",
    "\n",
    "            if 'organisation:' in lower_line or 'org:' in lower_line or 'organization:' in lower_line:\n",
    "                if not any([excl_org in line for excl_org in exclude_orgs]):\n",
    "                    Org.append(line.split(':')[1].strip())\n",
    "\n",
    "            if 'org-name:' in lower_line or 'orgname:' in lower_line:\n",
    "                OrgName.append(line.split(':')[1].strip())\n",
    "\n",
    "            if 'email:' in lower_line or 'e-mail:' in lower_line:\n",
    "                EmailServer.append(line.split('@')[1].strip())\n",
    "                #print(line)\n",
    "    \n",
    "    except:\n",
    "        print('whois '+site_IP+' process error/ran too long')\n",
    "        \n",
    "    #output = {'Org': list(set(Org))[0],\n",
    "    #        'OrgName': list(set(OrgName))[0],\n",
    "    #        'EmailServer': list(set(EmailServer))[0] }\n",
    "    output = {'Org': list(set(Org)),\n",
    "            'OrgName': list(set(OrgName)),\n",
    "            'EmailServer': list(set(EmailServer)) }\n",
    "    \n",
    "    return output"
   ]
  },
  {
   "cell_type": "code",
   "execution_count": 12,
   "metadata": {},
   "outputs": [
    {
     "data": {
      "text/plain": [
       "{'Org': ['Google LLC (GOGL)', 'Level 3 Parent, LLC (LPL-141)'],\n",
       " 'OrgName': ['Google LLC', 'Level 3 Parent, LLC'],\n",
       " 'EmailServer': ['google.com', 'level3.com']}"
      ]
     },
     "execution_count": 12,
     "metadata": {},
     "output_type": "execute_result"
    }
   ],
   "source": [
    "findOrg('8.8.8.8')"
   ]
  },
  {
   "cell_type": "markdown",
   "metadata": {},
   "source": [
    "### separate valid IP websites and find organizations for these"
   ]
  },
  {
   "cell_type": "code",
   "execution_count": 17,
   "metadata": {},
   "outputs": [],
   "source": [
    "sites_valid = sites[ sites['isValidIP'] ]\n",
    "#sites_valid"
   ]
  },
  {
   "cell_type": "code",
   "execution_count": 18,
   "metadata": {},
   "outputs": [
    {
     "name": "stdout",
     "output_type": "stream",
     "text": [
      "whois 186.192.90.5 process error/ran too long\n",
      "whois 212.129.33.171 process error/ran too long\n",
      "whois 82.165.229.87 process error/ran too long\n"
     ]
    }
   ],
   "source": [
    "sites_org = sites_valid['IP_addr'].apply(lambda s: pd.Series( findOrg(s) ) )"
   ]
  },
  {
   "cell_type": "code",
   "execution_count": 19,
   "metadata": {},
   "outputs": [],
   "source": [
    "sites_cdn = sites_valid.merge(sites_org, left_index=True, right_index=True )"
   ]
  },
  {
   "cell_type": "code",
   "execution_count": 35,
   "metadata": {},
   "outputs": [
    {
     "data": {
      "text/html": [
       "<div>\n",
       "<style scoped>\n",
       "    .dataframe tbody tr th:only-of-type {\n",
       "        vertical-align: middle;\n",
       "    }\n",
       "\n",
       "    .dataframe tbody tr th {\n",
       "        vertical-align: top;\n",
       "    }\n",
       "\n",
       "    .dataframe thead th {\n",
       "        text-align: right;\n",
       "    }\n",
       "</style>\n",
       "<table border=\"1\" class=\"dataframe\">\n",
       "  <thead>\n",
       "    <tr style=\"text-align: right;\">\n",
       "      <th></th>\n",
       "      <th>rank</th>\n",
       "      <th>url</th>\n",
       "      <th>IP_addr</th>\n",
       "      <th>isValidIP</th>\n",
       "      <th>Org</th>\n",
       "      <th>OrgName</th>\n",
       "      <th>EmailServer</th>\n",
       "    </tr>\n",
       "  </thead>\n",
       "  <tbody>\n",
       "    <tr>\n",
       "      <th>0</th>\n",
       "      <td>1</td>\n",
       "      <td>google.com</td>\n",
       "      <td>172.217.167.46</td>\n",
       "      <td>True</td>\n",
       "      <td>[Google LLC (GOGL)]</td>\n",
       "      <td>[Google LLC]</td>\n",
       "      <td>[google.com]</td>\n",
       "    </tr>\n",
       "    <tr>\n",
       "      <th>1</th>\n",
       "      <td>2</td>\n",
       "      <td>youtube.com</td>\n",
       "      <td>172.217.167.46</td>\n",
       "      <td>True</td>\n",
       "      <td>[Google LLC (GOGL)]</td>\n",
       "      <td>[Google LLC]</td>\n",
       "      <td>[google.com]</td>\n",
       "    </tr>\n",
       "    <tr>\n",
       "      <th>2</th>\n",
       "      <td>3</td>\n",
       "      <td>facebook.com</td>\n",
       "      <td>157.240.25.35</td>\n",
       "      <td>True</td>\n",
       "      <td>[Facebook, Inc. (THEFA-3)]</td>\n",
       "      <td>[Facebook, Inc.]</td>\n",
       "      <td>[fb.com]</td>\n",
       "    </tr>\n",
       "    <tr>\n",
       "      <th>3</th>\n",
       "      <td>4</td>\n",
       "      <td>baidu.com</td>\n",
       "      <td>220.181.57.216</td>\n",
       "      <td>True</td>\n",
       "      <td>[]</td>\n",
       "      <td>[]</td>\n",
       "      <td>[bjtelecom.net, ns.chinanet.cn.net]</td>\n",
       "    </tr>\n",
       "    <tr>\n",
       "      <th>4</th>\n",
       "      <td>5</td>\n",
       "      <td>wikipedia.org</td>\n",
       "      <td>103.102.166.224</td>\n",
       "      <td>True</td>\n",
       "      <td>[ORG-WFI1-AP]</td>\n",
       "      <td>[Wikimedia Foundation, Inc.]</td>\n",
       "      <td>[wikimedia.org]</td>\n",
       "    </tr>\n",
       "    <tr>\n",
       "      <th>5</th>\n",
       "      <td>6</td>\n",
       "      <td>qq.com</td>\n",
       "      <td>111.161.64.48</td>\n",
       "      <td>True</td>\n",
       "      <td>[]</td>\n",
       "      <td>[]</td>\n",
       "      <td>[chinaunicom.cn]</td>\n",
       "    </tr>\n",
       "    <tr>\n",
       "      <th>6</th>\n",
       "      <td>7</td>\n",
       "      <td>yahoo.com</td>\n",
       "      <td>98.137.246.7</td>\n",
       "      <td>True</td>\n",
       "      <td>[Yahoo! Inc. (YHOO)]</td>\n",
       "      <td>[Yahoo! Inc.]</td>\n",
       "      <td>[cc.yahoo-inc.com, yahoo-inc.com]</td>\n",
       "    </tr>\n",
       "    <tr>\n",
       "      <th>7</th>\n",
       "      <td>8</td>\n",
       "      <td>amazon.com</td>\n",
       "      <td>205.251.242.103</td>\n",
       "      <td>True</td>\n",
       "      <td>[Amazon.com, Inc. (AMAZON-4)]</td>\n",
       "      <td>[Amazon.com, Inc.]</td>\n",
       "      <td>[amazonaws.com, amazon.com]</td>\n",
       "    </tr>\n",
       "    <tr>\n",
       "      <th>8</th>\n",
       "      <td>9</td>\n",
       "      <td>taobao.com</td>\n",
       "      <td>140.205.94.189</td>\n",
       "      <td>True</td>\n",
       "      <td>[]</td>\n",
       "      <td>[Asia Pacific Network Information Centre]</td>\n",
       "      <td>[apnic.net, cnnic.cn, alibaba-inc.com, list.al...</td>\n",
       "    </tr>\n",
       "    <tr>\n",
       "      <th>9</th>\n",
       "      <td>10</td>\n",
       "      <td>reddit.com</td>\n",
       "      <td>151.101.1.140</td>\n",
       "      <td>True</td>\n",
       "      <td>[Fastly (SKYCA-3), Administered by RIPE NCC]</td>\n",
       "      <td>[Fastly]</td>\n",
       "      <td>[fastly.com]</td>\n",
       "    </tr>\n",
       "  </tbody>\n",
       "</table>\n",
       "</div>"
      ],
      "text/plain": [
       "   rank            url          IP_addr  isValidIP  \\\n",
       "0     1     google.com   172.217.167.46       True   \n",
       "1     2    youtube.com   172.217.167.46       True   \n",
       "2     3   facebook.com    157.240.25.35       True   \n",
       "3     4      baidu.com   220.181.57.216       True   \n",
       "4     5  wikipedia.org  103.102.166.224       True   \n",
       "5     6         qq.com    111.161.64.48       True   \n",
       "6     7      yahoo.com     98.137.246.7       True   \n",
       "7     8     amazon.com  205.251.242.103       True   \n",
       "8     9     taobao.com   140.205.94.189       True   \n",
       "9    10     reddit.com    151.101.1.140       True   \n",
       "\n",
       "                                            Org  \\\n",
       "0                           [Google LLC (GOGL)]   \n",
       "1                           [Google LLC (GOGL)]   \n",
       "2                    [Facebook, Inc. (THEFA-3)]   \n",
       "3                                            []   \n",
       "4                                 [ORG-WFI1-AP]   \n",
       "5                                            []   \n",
       "6                          [Yahoo! Inc. (YHOO)]   \n",
       "7                 [Amazon.com, Inc. (AMAZON-4)]   \n",
       "8                                            []   \n",
       "9  [Fastly (SKYCA-3), Administered by RIPE NCC]   \n",
       "\n",
       "                                     OrgName  \\\n",
       "0                               [Google LLC]   \n",
       "1                               [Google LLC]   \n",
       "2                           [Facebook, Inc.]   \n",
       "3                                         []   \n",
       "4               [Wikimedia Foundation, Inc.]   \n",
       "5                                         []   \n",
       "6                              [Yahoo! Inc.]   \n",
       "7                         [Amazon.com, Inc.]   \n",
       "8  [Asia Pacific Network Information Centre]   \n",
       "9                                   [Fastly]   \n",
       "\n",
       "                                         EmailServer  \n",
       "0                                       [google.com]  \n",
       "1                                       [google.com]  \n",
       "2                                           [fb.com]  \n",
       "3                [bjtelecom.net, ns.chinanet.cn.net]  \n",
       "4                                    [wikimedia.org]  \n",
       "5                                   [chinaunicom.cn]  \n",
       "6                  [cc.yahoo-inc.com, yahoo-inc.com]  \n",
       "7                        [amazonaws.com, amazon.com]  \n",
       "8  [apnic.net, cnnic.cn, alibaba-inc.com, list.al...  \n",
       "9                                       [fastly.com]  "
      ]
     },
     "execution_count": 35,
     "metadata": {},
     "output_type": "execute_result"
    }
   ],
   "source": [
    "sites_cdn.head(10)"
   ]
  },
  {
   "cell_type": "markdown",
   "metadata": {},
   "source": [
    "### check organization, orgname, email against list of well known CDN names"
   ]
  },
  {
   "cell_type": "code",
   "execution_count": 4,
   "metadata": {},
   "outputs": [],
   "source": [
    "# cdn names from wikipedia, www.cdnlist.com\n",
    "\n",
    "CDN_names = sorted( list( pd.read_csv('CDNnames.csv', sep = '\\n', header = None, names = ['CDN'])['CDN'].unique() ))"
   ]
  },
  {
   "cell_type": "code",
   "execution_count": 5,
   "metadata": {},
   "outputs": [],
   "source": [
    "#TODO\n",
    "#check org with cdnnames"
   ]
  },
  {
   "cell_type": "code",
   "execution_count": 6,
   "metadata": {},
   "outputs": [
    {
     "data": {
      "text/plain": [
       "['AAPT',\n",
       " 'ARA Networks',\n",
       " 'AT&T',\n",
       " 'AT&T Inc.',\n",
       " 'Akamai',\n",
       " 'Akamai Technologies',\n",
       " 'Alibaba',\n",
       " 'Allot Communications',\n",
       " 'Amazon',\n",
       " 'Amazon CloudFront',\n",
       " 'Aryaka',\n",
       " 'Azure CDN',\n",
       " 'BT',\n",
       " 'BT Group',\n",
       " 'BTI Systems',\n",
       " 'Bell',\n",
       " 'Bell Canada',\n",
       " 'BelugaCDN',\n",
       " 'Bharti Airtel',\n",
       " 'BitTorrent, Inc.',\n",
       " 'Blue Coat',\n",
       " 'BootstrapCDN',\n",
       " 'Broadmedia',\n",
       " 'Broadpeak',\n",
       " 'CDN77',\n",
       " 'CDNetworks',\n",
       " 'CacheFly',\n",
       " 'Cedexis',\n",
       " 'CenterServ',\n",
       " 'CenturyLink',\n",
       " 'China Telecom',\n",
       " 'ChinaCache',\n",
       " 'ChinaNetCenter',\n",
       " 'Cisco',\n",
       " 'Cloudflare',\n",
       " 'Comcast',\n",
       " 'Concentric',\n",
       " 'Concurrent',\n",
       " 'Conversant',\n",
       " 'Conviva',\n",
       " 'Coral Content Distribution Network',\n",
       " 'Cotendo',\n",
       " 'Deutsche Telekom',\n",
       " 'EdgeCast Networks',\n",
       " 'Edgeware',\n",
       " 'Ericsson',\n",
       " 'Fastly',\n",
       " 'Fortinet',\n",
       " 'Google Cloud',\n",
       " 'HP Cloud Services',\n",
       " 'HiNet',\n",
       " 'Hibernia Networks',\n",
       " 'Highwinds',\n",
       " 'Highwinds Network Group',\n",
       " 'Hola',\n",
       " 'Huawei',\n",
       " 'Incapsula',\n",
       " 'IneoQuest',\n",
       " 'Instart',\n",
       " 'Instart Logic',\n",
       " 'Interferex',\n",
       " 'Internap',\n",
       " 'Interoute',\n",
       " 'JSDelivr',\n",
       " 'Jetstream',\n",
       " 'Juniper ',\n",
       " 'KPN',\n",
       " 'KT',\n",
       " 'Korea Telecom',\n",
       " 'LeaseWeb',\n",
       " 'Level 3',\n",
       " 'Level 3 Communications',\n",
       " 'Limelight Networks',\n",
       " 'Megafon',\n",
       " 'MetaCDN',\n",
       " 'Microsoft Azure',\n",
       " 'MileWEB',\n",
       " 'Mirror Image',\n",
       " 'NACEVI',\n",
       " 'NTT',\n",
       " 'NTT Communications',\n",
       " 'NaviSite',\n",
       " 'Ngenix',\n",
       " 'Nice People At Work',\n",
       " 'Nokia',\n",
       " 'OVH',\n",
       " 'OnApp',\n",
       " 'Ono',\n",
       " 'Orange',\n",
       " 'PCCW',\n",
       " 'Pacnet',\n",
       " 'Pando Networks',\n",
       " 'PeerApp',\n",
       " 'Qualitynet',\n",
       " 'Qwilt',\n",
       " 'Rackspace Cloud Files',\n",
       " 'Radware',\n",
       " 'Rawflow',\n",
       " 'Reliance Globalcom',\n",
       " 'RevAMP',\n",
       " 'SFR',\n",
       " 'SK Broadband',\n",
       " 'SKY',\n",
       " 'SSIMWave',\n",
       " 'STC',\n",
       " 'SingTel',\n",
       " 'Solbox',\n",
       " 'Spark New Zealand',\n",
       " 'Speedera Networks',\n",
       " 'StackPath',\n",
       " 'StreamZilla',\n",
       " 'Swarmify',\n",
       " 'Swiftserve',\n",
       " 'Swisscom',\n",
       " 'Tata Communications',\n",
       " 'Telcom Italia',\n",
       " 'Telecom Argentina',\n",
       " 'Telecom Italia',\n",
       " 'Telecom Italia Sparkle',\n",
       " 'Telecom Malaysia',\n",
       " 'Telefonica',\n",
       " 'Telenor',\n",
       " 'TeliaSonera',\n",
       " 'Telin',\n",
       " 'Telstra',\n",
       " 'Telus',\n",
       " 'Touchstream',\n",
       " 'Turk Telekom',\n",
       " 'Varnish',\n",
       " 'Verizon',\n",
       " 'Vidscale',\n",
       " 'Wangsu Science & Technology',\n",
       " 'Webscale',\n",
       " 'Yottaa']"
      ]
     },
     "execution_count": 6,
     "metadata": {},
     "output_type": "execute_result"
    }
   ],
   "source": [
    "CDN_names"
   ]
  },
  {
   "cell_type": "markdown",
   "metadata": {},
   "source": [
    "## Rank number of websites per CDN\n",
    "- sort dataframe\n",
    "- bar chart"
   ]
  },
  {
   "cell_type": "code",
   "execution_count": null,
   "metadata": {},
   "outputs": [],
   "source": []
  },
  {
   "cell_type": "markdown",
   "metadata": {},
   "source": []
  },
  {
   "cell_type": "code",
   "execution_count": null,
   "metadata": {},
   "outputs": [],
   "source": []
  }
 ],
 "metadata": {
  "kernelspec": {
   "display_name": "Python 3",
   "language": "python",
   "name": "python3"
  },
  "language_info": {
   "codemirror_mode": {
    "name": "ipython",
    "version": 3
   },
   "file_extension": ".py",
   "mimetype": "text/x-python",
   "name": "python",
   "nbconvert_exporter": "python",
   "pygments_lexer": "ipython3",
   "version": "3.7.1"
  }
 },
 "nbformat": 4,
 "nbformat_minor": 2
}
